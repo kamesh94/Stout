{
 "cells": [
  {
   "cell_type": "code",
   "execution_count": null,
   "metadata": {},
   "outputs": [],
   "source": [
    "import pandas as pd\n",
    "import plotly.express as px\n",
    "df = pd.read_csv(r'C:/Users/kames/OneDrive/Documents/GitHub/Stout/loans_full_schema.csv')"
   ]
  },
  {
   "cell_type": "code",
   "execution_count": null,
   "metadata": {},
   "outputs": [],
   "source": [
    "#Data visualization 1\n",
    "\n",
    "import plotly.graph_objects as go\n",
    "\n",
    "locationDf=df.groupby(['state'], as_index=False)[['interest_rate']].mean()\n",
    "\n",
    "locFig = go.Figure(data=go.Choropleth(\n",
    "    locations=locationDf['state'],\n",
    "    z = locationDf['interest_rate'].astype(float),\n",
    "    locationmode = 'USA-states',\n",
    "    colorscale = 'Reds',\n",
    "    colorbar_title = \"Average Interest Rate\",\n",
    "))\n",
    "\n",
    "locFig.update_layout(\n",
    "    title_text = 'Heatmap of state-wise average interest rate',\n",
    "    geo_scope='usa',\n",
    ")\n",
    "\n",
    "locFig.show()\n",
    "\n",
    "locFig.write_html('docs/data-visualization-1.1.html')\n",
    "\n",
    "densityDf=df.groupby(['state'],as_index=False).mean()[['state', 'debt_to_income', 'interest_rate']]\n",
    "\n",
    "denfig = go.Figure(data=go.Choropleth(\n",
    "    locations=densityDf['state'],\n",
    "    z = densityDf['debt_to_income'].astype(float),\n",
    "    locationmode = 'USA-states',\n",
    "    colorscale = 'Blues',\n",
    "    colorbar_title = \"Average Debt-To-Income Ratio\",\n",
    "))\n",
    "\n",
    "denfig.update_layout(\n",
    "    title_text = 'Heatmap of state-wise deby-to-income ratio',\n",
    "    geo_scope='usa',\n",
    ")\n",
    "\n",
    "denfig.show()\n",
    "\n",
    "denfig.write_html('docs/data-visualization-1.2.html')"
   ]
  },
  {
   "cell_type": "code",
   "execution_count": null,
   "metadata": {},
   "outputs": [],
   "source": [
    "#Data visualization 2\n",
    "\n",
    "#Preparing Delinquencies and how does it affect interest rate\n",
    "\n",
    "delinqDf = df[['delinq_2y', 'months_since_last_delinq','account_never_delinq_percent', 'interest_rate']]\n",
    "df['months_since_last_delinq_categories'] = pd.cut(x=df['months_since_last_delinq'], bins=[0, 20, 40, 60, 80, 100, 120],\n",
    "                     labels=['0-20', '20-40', '40-60','60-80','80-100','100-120'])\n",
    "df['account_never_delinq_percent_categories'] = pd.cut(x=df['account_never_delinq_percent'], bins=[0, 20, 40, 60, 80, 100],\n",
    "                     labels=['0-20', '20-40', '40-60','60-80','80-100'])\n",
    "\n",
    "figdelinqDf = px.box(df, x=\"delinq_2y\", y=\"interest_rate\")\n",
    "figdelinqDf.show()\n",
    "figdelinqDf.write_html('docs/data-visualization-2.1.html')\n",
    "\n",
    "figLastDel = px.box(df, x=\"months_since_last_delinq_categories\", y=\"interest_rate\")\n",
    "figLastDel.show()\n",
    "figLastDel.write_html('docs/data-visualization-2.2.html')\n",
    "\n",
    "figAcctNotDel = px.box(df, x=\"account_never_delinq_percent_categories\", y=\"interest_rate\")\n",
    "figAcctNotDel.show()\n",
    "figAcctNotDel.write_html('docs/data-visualization-2.3.html')"
   ]
  },
  {
   "cell_type": "code",
   "execution_count": null,
   "metadata": {},
   "outputs": [],
   "source": [
    "#Data visualization 2\n",
    "\n",
    "\n",
    "figLoan = px.scatter(df, x=\"loan_amount\", y=\"interest_rate\", animation_frame=\"issue_month\", animation_group=\"grade\",\n",
    "           color=\"grade\",\n",
    "           log_x=True, size_max=55, range_x=[100,100000], range_y=[0,30])\n",
    "\n",
    "figLoan.show()\n",
    "\n",
    "figLoan.write_html('docs/data-visualization-3.1.html')\n"
   ]
  }
 ],
 "metadata": {
  "interpreter": {
   "hash": "72f51e80378f9f7b0f2e9e0999b0405d317d96da607088ea4163234e834d0ba2"
  },
  "kernelspec": {
   "display_name": "Python 3.10.4 64-bit (windows store)",
   "language": "python",
   "name": "python3"
  },
  "language_info": {
   "codemirror_mode": {
    "name": "ipython",
    "version": 3
   },
   "file_extension": ".py",
   "mimetype": "text/x-python",
   "name": "python",
   "nbconvert_exporter": "python",
   "pygments_lexer": "ipython3",
   "version": "3.10.4"
  },
  "orig_nbformat": 4
 },
 "nbformat": 4,
 "nbformat_minor": 2
}
