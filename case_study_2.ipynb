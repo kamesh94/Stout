{
 "cells": [
  {
   "cell_type": "code",
   "execution_count": null,
   "metadata": {},
   "outputs": [],
   "source": [
    "import pandas as pd\n",
    "import plotly.express as px\n",
    "import plotly.graph_objects as go\n",
    "\n",
    "customers = pd.read_csv(r'C:/Users/kames/OneDrive/Documents/GitHub/Stout/casestudy.csv')\n",
    "\n",
    "yearWiseDf = pd.DataFrame()\n",
    "\n",
    "#1. Total revenue for the current year\n",
    "totalRevenuePerYear=customers.groupby(['year'], as_index=False).agg(total_revenue = ('net_revenue', 'sum'), customer_count = ('year','count'))\n",
    "yearWiseDf = totalRevenuePerYear\n",
    "revenueFig = px.pie(yearWiseDf, values='total_revenue', names='year', title='Total revenue per year')\n",
    "revenueFig.show()\n",
    "revenueFig.write_html('docs/case-study-2.1.html')\n",
    "\n",
    "yearWiseDf['New Customer Revenue'] = yearWiseDf['total_revenue']\n",
    "yearWiseDf['Existing Customer Growth'] = yearWiseDf['total_revenue']\n",
    "yearWiseDf['Revenue lost from attrition'] = 0\n",
    "yearWiseDf['Existing Customer Revenue Current Year'] = yearWiseDf['total_revenue']\n",
    "yearWiseDf['Existing Customer Revenue Prior Year'] = 0\n",
    "yearWiseDf['Total Customers Current Year'] = yearWiseDf['customer_count']\n",
    "yearWiseDf['Total Customers Previous Year'] = 0\n",
    "yearWiseDf['New Customers'] = yearWiseDf['customer_count']\n",
    "yearWiseDf['Lost Customers'] = 0\n",
    "\n",
    "yearWiseDict = dict(tuple(customers.groupby('year')))\n",
    "\n",
    "df2015 = yearWiseDict[2015]\n",
    "df2016 = yearWiseDict[2016]\n",
    "df2017 = yearWiseDict[2017]\n",
    "\n",
    "df2015 = df2015.drop(df2015.columns[[0, 3]], axis=1)\n",
    "df2016 = df2016.drop(df2016.columns[[0, 3]], axis=1)\n",
    "df2017 = df2017.drop(df2017.columns[[0, 3]], axis=1)\n",
    "\n",
    "#Existing Customer Statistics\n",
    "common2016_2015 = df2016.merge(df2015, on=[\"customer_email\"])\n",
    "common2016_2015.rename(columns={'net_revenue_x':'net_revenue_2016', 'net_revenue_y':'net_revenue_2015'}, inplace=True)\n",
    "common2016_2015['net_growth'] = common2016_2015['net_revenue_2016'] - common2016_2015['net_revenue_2015']\n",
    "\n",
    "common2016_2015 = common2016_2015.round(2)\n",
    "\n",
    "existingCustomerNetRevenueCurrentYear2016 = sum(common2016_2015['net_revenue_2016'])\n",
    "existingCustomerNetRevenuePreviousYear2016 = sum(common2016_2015['net_revenue_2015'])\n",
    "exisitingCustomerGrowth2016 = existingCustomerNetRevenueCurrentYear2016 - existingCustomerNetRevenuePreviousYear2016;\n",
    "yearWiseDf.at[1, 'Existing Customer Revenue Current Year'] = existingCustomerNetRevenueCurrentYear2016;\n",
    "yearWiseDf.at[1, 'Existing Customer Revenue Prior Year'] = existingCustomerNetRevenuePreviousYear2016;\n",
    "yearWiseDf.at[1,'Existing Customer Growth'] = exisitingCustomerGrowth2016\n",
    "\n",
    "existingCustomerFig2016 = go.Figure(data=[go.Table(\n",
    "    header=dict(values=list(common2016_2015.columns),\n",
    "                fill_color='paleturquoise',\n",
    "                align='left'),\n",
    "    cells=dict(values=[common2016_2015.customer_email, common2016_2015.net_revenue_2016, common2016_2015.net_revenue_2015, common2016_2015.net_growth],\n",
    "               fill_color='lavender',\n",
    "               align='left'))\n",
    "])\n",
    "\n",
    "existingCustomerFig2016.show()\n",
    "existingCustomerFig2016.write_html('docs/case-study-2.2.html')\n",
    "\n",
    "common2017_2016 = df2017.merge(df2016, on=[\"customer_email\"])\n",
    "common2017_2016.rename(columns={'net_revenue_x':'net_revenue_2017', 'net_revenue_y':'net_revenue_2016'}, inplace=True)\n",
    "common2017_2016['net_growth'] = common2017_2016['net_revenue_2017'] - common2017_2016['net_revenue_2016']\n",
    "common2017_2016 = common2017_2016.round(2)\n",
    "\n",
    "existingCustomerNetRevenueCurrentYear2017 = sum(common2017_2016['net_revenue_2017'])\n",
    "existingCustomerNetRevenuePreviousYear2017 = sum(common2017_2016['net_revenue_2016'])\n",
    "exisitingCustomerGrowth2017 = existingCustomerNetRevenueCurrentYear2017 - existingCustomerNetRevenuePreviousYear2017;\n",
    "yearWiseDf.at[2, 'Existing Customer Revenue Current Year'] = existingCustomerNetRevenueCurrentYear2017;\n",
    "yearWiseDf.at[2, 'Existing Customer Revenue Prior Year'] = existingCustomerNetRevenuePreviousYear2017;\n",
    "yearWiseDf.at[2,'Existing Customer Growth'] = exisitingCustomerGrowth2017\n",
    "\n",
    "existingCustomerFig2017 = go.Figure(data=[go.Table(\n",
    "    header=dict(values=list(common2017_2016.columns),\n",
    "                fill_color='paleturquoise',\n",
    "                align='left'),\n",
    "    cells=dict(values=[common2017_2016.customer_email, common2017_2016.net_revenue_2017, common2017_2016.net_revenue_2016, common2017_2016.net_growth],\n",
    "               fill_color='lavender',\n",
    "               align='left'))\n",
    "])\n",
    "\n",
    "existingCustomerFig2017.show()\n",
    "existingCustomerFig2017.write_html('docs/case-study-2.3.html')\n",
    "\n",
    "yearWiseDf = yearWiseDf.round(2)\n",
    "\n",
    "existingReveneueFig = go.Figure(data=[\n",
    "    go.Bar(name='2016', x=['Existing Customer Revenue Current Year', 'Existing Customer Revenue Prior Year', 'Existing Customer Growth'], y=[yearWiseDf.at[1, 'Existing Customer Revenue Current Year'], yearWiseDf.at[1, 'Existing Customer Revenue Prior Year'], yearWiseDf.at[1, 'Existing Customer Growth']]),\n",
    "    go.Bar(name='2017', x=['Existing Customer Revenue Current Year', 'Existing Customer Revenue Prior Year', 'Existing Customer Growth'], y=[yearWiseDf.at[2, 'Existing Customer Revenue Current Year'], yearWiseDf.at[2, 'Existing Customer Revenue Prior Year'], yearWiseDf.at[2, 'Existing Customer Growth']])\n",
    "])\n",
    "\n",
    "existingReveneueFig.update_layout(barmode='group')\n",
    "existingReveneueFig.show()\n",
    "existingReveneueFig.write_html('docs/case-study-2.4.html')\n",
    "\n",
    "\n",
    "#New Customer Statistics\n",
    "\n",
    "diff2016_2015 = df2016[~df2016.customer_email.isin(common2016_2015.customer_email)]\n",
    "diff2017_2016 = df2017[~df2017.customer_email.isin(common2017_2016.customer_email)]\n",
    "\n",
    "diff2016_2015 = diff2016_2015.round(2)\n",
    "diff2017_2016 = diff2017_2016.round(2)\n",
    "\n",
    "newCustomerRevenue2016 = sum(diff2016_2015.net_revenue)\n",
    "newCustomerRevenue2017 = sum(diff2017_2016.net_revenue)\n",
    "\n",
    "newCustomerFig2016 = go.Figure(data=[go.Table(\n",
    "    header=dict(values=list(diff2016_2015.columns),\n",
    "                fill_color='paleturquoise',\n",
    "                align='left'),\n",
    "    cells=dict(values=[diff2016_2015.customer_email, diff2016_2015.net_revenue],\n",
    "               fill_color='lavender',\n",
    "               align='left'))\n",
    "])\n",
    "\n",
    "newCustomerFig2016.show()\n",
    "newCustomerFig2016.write_html('docs/case-study-2.5.html')\n",
    "\n",
    "newCustomerFig2017 = go.Figure(data=[go.Table(\n",
    "    header=dict(values=list(diff2017_2016.columns),\n",
    "                fill_color='paleturquoise',\n",
    "                align='left'),\n",
    "    cells=dict(values=[diff2017_2016.customer_email, diff2017_2016.net_revenue],\n",
    "               fill_color='lavender',\n",
    "               align='left'))\n",
    "])\n",
    "\n",
    "newCustomerFig2017.show()\n",
    "newCustomerFig2017.write_html('docs/case-study-2.6.html')\n",
    "\n",
    "yearWiseDf.at[1, 'New Customers'] = diff2016_2015.shape[0];\n",
    "yearWiseDf.at[2, 'New Customers'] = diff2017_2016.shape[0];\n",
    "yearWiseDf.at[1,'New Customer Revenue'] = newCustomerRevenue2016\n",
    "yearWiseDf.at[2,'New Customer Revenue'] = newCustomerRevenue2017\n",
    "\n",
    "yearWiseDf = yearWiseDf.round(2)\n",
    "\n",
    "newCustomerFig = px.scatter(yearWiseDf, x=\"year\", y=\"New Customer Revenue\",\n",
    "\t         size=\"New Customers\", size_max=60)\n",
    "newCustomerFig.update_xaxes(type='category')\n",
    "newCustomerFig.show()\n",
    "newCustomerFig.write_html('docs/case-study-2.7.html')\n",
    "\n",
    "yearWiseDf.at[1, 'Total Customers Previous Year'] = yearWiseDf.at[0, 'customer_count']\n",
    "yearWiseDf.at[2, 'Total Customers Previous Year'] = yearWiseDf.at[1, 'customer_count']\n",
    "\n",
    "#Lost customers statistics\n",
    "\n",
    "diff2015_2016 = df2015[~df2015.customer_email.isin(common2016_2015.customer_email)]\n",
    "diff2016_2017 = df2016[~df2016.customer_email.isin(common2017_2016.customer_email)]\n",
    "\n",
    "diff2015_2016 = diff2015_2016.round(2)\n",
    "diff2016_2017 = diff2016_2017.round(2)\n",
    "\n",
    "revenueLostFromAttrition2016 = sum(diff2015_2016.net_revenue)\n",
    "revenueLostFromAttrition2017 = sum(diff2016_2017.net_revenue)\n",
    "\n",
    "yearWiseDf.at[1, 'Lost Customers'] = diff2015_2016.shape[0]\n",
    "yearWiseDf.at[2, 'Lost Customers'] = diff2016_2017.shape[0]\n",
    "yearWiseDf.at[1, 'Revenue lost from attrition'] = revenueLostFromAttrition2016\n",
    "yearWiseDf.at[2, 'Revenue lost from attrition'] = revenueLostFromAttrition2017\n",
    "\n",
    "yearWiseDf = yearWiseDf.round(2)\n",
    "\n",
    "lostCustomerFig = px.scatter(yearWiseDf, x=\"year\", y=\"Revenue lost from attrition\",\n",
    "\t         size=\"Lost Customers\", size_max=60)\n",
    "lostCustomerFig.update_xaxes(type='category')\n",
    "lostCustomerFig.show()\n",
    "lostCustomerFig.write_html('docs/case-study-2.8.html')\n",
    "\n",
    "customerFig = go.Figure(data=[\n",
    "    go.Bar(name='2015', x=['Total Customers Current Year', 'Total Customers Previous Year', 'New Customers', 'Lost Customers'], y=[yearWiseDf.at[0, 'Total Customers Current Year'], yearWiseDf.at[0, 'Total Customers Previous Year'], yearWiseDf.at[0, 'New Customers'], yearWiseDf.at[0, 'Lost Customers']]),\n",
    "    go.Bar(name='2016', x=['Total Customers Current Year', 'Total Customers Previous Year', 'New Customers', 'Lost Customers'], y=[yearWiseDf.at[1, 'Total Customers Current Year'], yearWiseDf.at[1, 'Total Customers Previous Year'], yearWiseDf.at[1, 'New Customers'], yearWiseDf.at[1, 'Lost Customers']]),\n",
    "    go.Bar(name='2017', x=['Total Customers Current Year', 'Total Customers Previous Year', 'New Customers', 'Lost Customers'], y=[yearWiseDf.at[2, 'Total Customers Current Year'], yearWiseDf.at[2, 'Total Customers Previous Year'], yearWiseDf.at[2, 'New Customers'], yearWiseDf.at[2, 'Lost Customers']])\n",
    "])\n",
    "\n",
    "customerFig.update_layout(barmode='group')\n",
    "customerFig.show()\n",
    "customerFig.write_html('docs/case-study-2.9.html')\n",
    "\n",
    "yearWiseFig = go.Figure(data=[go.Table(\n",
    "    header=dict(values=list(yearWiseDf.columns),\n",
    "                line_color='darkslategray',\n",
    "                fill_color='lightskyblue',\n",
    "                align='left'),\n",
    "    cells=dict(values=[yearWiseDf['year'], yearWiseDf['total_revenue'], yearWiseDf['customer_count'], yearWiseDf['New Customer Revenue'],\n",
    "      yearWiseDf['Existing Customer Growth'], yearWiseDf['Revenue lost from attrition'],\n",
    "       yearWiseDf['Existing Customer Revenue Current Year'],\n",
    "       yearWiseDf['Existing Customer Revenue Prior Year'], yearWiseDf['Total Customers Current Year'],\n",
    "       yearWiseDf['Total Customers Previous Year'], yearWiseDf['New Customers'], yearWiseDf['Lost Customers']],\n",
    "               line_color='darkslategray',\n",
    "               fill_color='lightcyan',\n",
    "               align='left'))\n",
    "])\n",
    "\n",
    "yearWiseFig.show()\n",
    "yearWiseFig.write_html('docs/case-study-2.html')\n",
    "\n"
   ]
  },
  {
   "cell_type": "code",
   "execution_count": null,
   "metadata": {},
   "outputs": [],
   "source": [
    "\n",
    "finalFig = px.line(yearWiseDf, x='year', y=\"total_revenue\")\n",
    "finalFig.show()\n",
    "finalFig.write_html('docs/case-study-2a.html')"
   ]
  },
  {
   "cell_type": "code",
   "execution_count": null,
   "metadata": {},
   "outputs": [],
   "source": [
    "finalFig = px.line(yearWiseDf, x='year', y=\"Existing Customer Revenue Current Year\")\n",
    "finalFig.show()\n",
    "finalFig.write_html('docs/case-study-2b.html')"
   ]
  },
  {
   "cell_type": "code",
   "execution_count": null,
   "metadata": {},
   "outputs": [],
   "source": [
    "finalFig = px.line(yearWiseDf, x='year', y=\"Existing Customer Revenue Prior Year\")\n",
    "finalFig.show()\n",
    "finalFig.write_html('docs/case-study-2c.html')"
   ]
  },
  {
   "cell_type": "code",
   "execution_count": null,
   "metadata": {},
   "outputs": [],
   "source": [
    "finalFig = px.line(yearWiseDf, x='year', y=\"Existing Customer Growth\")\n",
    "finalFig.show()\n",
    "finalFig.write_html('docs/case-study-2d.html')"
   ]
  },
  {
   "cell_type": "code",
   "execution_count": null,
   "metadata": {},
   "outputs": [],
   "source": [
    "finalFig = px.line(yearWiseDf, x='year', y=\"New Customers\")\n",
    "finalFig.show()\n",
    "finalFig.write_html('docs/case-study-2e.html')"
   ]
  },
  {
   "cell_type": "code",
   "execution_count": 13,
   "metadata": {},
   "outputs": [
    {
     "data": {
      "application/vnd.plotly.v1+json": {
       "config": {
        "plotlyServerURL": "https://plot.ly"
       },
       "data": [
        {
         "hovertemplate": "year=%{x}<br>Lost Customers=%{y}<extra></extra>",
         "legendgroup": "",
         "line": {
          "color": "#636efa",
          "dash": "solid"
         },
         "marker": {
          "symbol": "circle"
         },
         "mode": "lines",
         "name": "",
         "orientation": "v",
         "showlegend": false,
         "type": "scatter",
         "x": [
          2015,
          2016,
          2017
         ],
         "xaxis": "x",
         "y": [
          0,
          171710,
          183687
         ],
         "yaxis": "y"
        }
       ],
       "layout": {
        "legend": {
         "tracegroupgap": 0
        },
        "margin": {
         "t": 60
        },
        "template": {
         "data": {
          "bar": [
           {
            "error_x": {
             "color": "#2a3f5f"
            },
            "error_y": {
             "color": "#2a3f5f"
            },
            "marker": {
             "line": {
              "color": "#E5ECF6",
              "width": 0.5
             },
             "pattern": {
              "fillmode": "overlay",
              "size": 10,
              "solidity": 0.2
             }
            },
            "type": "bar"
           }
          ],
          "barpolar": [
           {
            "marker": {
             "line": {
              "color": "#E5ECF6",
              "width": 0.5
             },
             "pattern": {
              "fillmode": "overlay",
              "size": 10,
              "solidity": 0.2
             }
            },
            "type": "barpolar"
           }
          ],
          "carpet": [
           {
            "aaxis": {
             "endlinecolor": "#2a3f5f",
             "gridcolor": "white",
             "linecolor": "white",
             "minorgridcolor": "white",
             "startlinecolor": "#2a3f5f"
            },
            "baxis": {
             "endlinecolor": "#2a3f5f",
             "gridcolor": "white",
             "linecolor": "white",
             "minorgridcolor": "white",
             "startlinecolor": "#2a3f5f"
            },
            "type": "carpet"
           }
          ],
          "choropleth": [
           {
            "colorbar": {
             "outlinewidth": 0,
             "ticks": ""
            },
            "type": "choropleth"
           }
          ],
          "contour": [
           {
            "colorbar": {
             "outlinewidth": 0,
             "ticks": ""
            },
            "colorscale": [
             [
              0,
              "#0d0887"
             ],
             [
              0.1111111111111111,
              "#46039f"
             ],
             [
              0.2222222222222222,
              "#7201a8"
             ],
             [
              0.3333333333333333,
              "#9c179e"
             ],
             [
              0.4444444444444444,
              "#bd3786"
             ],
             [
              0.5555555555555556,
              "#d8576b"
             ],
             [
              0.6666666666666666,
              "#ed7953"
             ],
             [
              0.7777777777777778,
              "#fb9f3a"
             ],
             [
              0.8888888888888888,
              "#fdca26"
             ],
             [
              1,
              "#f0f921"
             ]
            ],
            "type": "contour"
           }
          ],
          "contourcarpet": [
           {
            "colorbar": {
             "outlinewidth": 0,
             "ticks": ""
            },
            "type": "contourcarpet"
           }
          ],
          "heatmap": [
           {
            "colorbar": {
             "outlinewidth": 0,
             "ticks": ""
            },
            "colorscale": [
             [
              0,
              "#0d0887"
             ],
             [
              0.1111111111111111,
              "#46039f"
             ],
             [
              0.2222222222222222,
              "#7201a8"
             ],
             [
              0.3333333333333333,
              "#9c179e"
             ],
             [
              0.4444444444444444,
              "#bd3786"
             ],
             [
              0.5555555555555556,
              "#d8576b"
             ],
             [
              0.6666666666666666,
              "#ed7953"
             ],
             [
              0.7777777777777778,
              "#fb9f3a"
             ],
             [
              0.8888888888888888,
              "#fdca26"
             ],
             [
              1,
              "#f0f921"
             ]
            ],
            "type": "heatmap"
           }
          ],
          "heatmapgl": [
           {
            "colorbar": {
             "outlinewidth": 0,
             "ticks": ""
            },
            "colorscale": [
             [
              0,
              "#0d0887"
             ],
             [
              0.1111111111111111,
              "#46039f"
             ],
             [
              0.2222222222222222,
              "#7201a8"
             ],
             [
              0.3333333333333333,
              "#9c179e"
             ],
             [
              0.4444444444444444,
              "#bd3786"
             ],
             [
              0.5555555555555556,
              "#d8576b"
             ],
             [
              0.6666666666666666,
              "#ed7953"
             ],
             [
              0.7777777777777778,
              "#fb9f3a"
             ],
             [
              0.8888888888888888,
              "#fdca26"
             ],
             [
              1,
              "#f0f921"
             ]
            ],
            "type": "heatmapgl"
           }
          ],
          "histogram": [
           {
            "marker": {
             "pattern": {
              "fillmode": "overlay",
              "size": 10,
              "solidity": 0.2
             }
            },
            "type": "histogram"
           }
          ],
          "histogram2d": [
           {
            "colorbar": {
             "outlinewidth": 0,
             "ticks": ""
            },
            "colorscale": [
             [
              0,
              "#0d0887"
             ],
             [
              0.1111111111111111,
              "#46039f"
             ],
             [
              0.2222222222222222,
              "#7201a8"
             ],
             [
              0.3333333333333333,
              "#9c179e"
             ],
             [
              0.4444444444444444,
              "#bd3786"
             ],
             [
              0.5555555555555556,
              "#d8576b"
             ],
             [
              0.6666666666666666,
              "#ed7953"
             ],
             [
              0.7777777777777778,
              "#fb9f3a"
             ],
             [
              0.8888888888888888,
              "#fdca26"
             ],
             [
              1,
              "#f0f921"
             ]
            ],
            "type": "histogram2d"
           }
          ],
          "histogram2dcontour": [
           {
            "colorbar": {
             "outlinewidth": 0,
             "ticks": ""
            },
            "colorscale": [
             [
              0,
              "#0d0887"
             ],
             [
              0.1111111111111111,
              "#46039f"
             ],
             [
              0.2222222222222222,
              "#7201a8"
             ],
             [
              0.3333333333333333,
              "#9c179e"
             ],
             [
              0.4444444444444444,
              "#bd3786"
             ],
             [
              0.5555555555555556,
              "#d8576b"
             ],
             [
              0.6666666666666666,
              "#ed7953"
             ],
             [
              0.7777777777777778,
              "#fb9f3a"
             ],
             [
              0.8888888888888888,
              "#fdca26"
             ],
             [
              1,
              "#f0f921"
             ]
            ],
            "type": "histogram2dcontour"
           }
          ],
          "mesh3d": [
           {
            "colorbar": {
             "outlinewidth": 0,
             "ticks": ""
            },
            "type": "mesh3d"
           }
          ],
          "parcoords": [
           {
            "line": {
             "colorbar": {
              "outlinewidth": 0,
              "ticks": ""
             }
            },
            "type": "parcoords"
           }
          ],
          "pie": [
           {
            "automargin": true,
            "type": "pie"
           }
          ],
          "scatter": [
           {
            "fillpattern": {
             "fillmode": "overlay",
             "size": 10,
             "solidity": 0.2
            },
            "type": "scatter"
           }
          ],
          "scatter3d": [
           {
            "line": {
             "colorbar": {
              "outlinewidth": 0,
              "ticks": ""
             }
            },
            "marker": {
             "colorbar": {
              "outlinewidth": 0,
              "ticks": ""
             }
            },
            "type": "scatter3d"
           }
          ],
          "scattercarpet": [
           {
            "marker": {
             "colorbar": {
              "outlinewidth": 0,
              "ticks": ""
             }
            },
            "type": "scattercarpet"
           }
          ],
          "scattergeo": [
           {
            "marker": {
             "colorbar": {
              "outlinewidth": 0,
              "ticks": ""
             }
            },
            "type": "scattergeo"
           }
          ],
          "scattergl": [
           {
            "marker": {
             "colorbar": {
              "outlinewidth": 0,
              "ticks": ""
             }
            },
            "type": "scattergl"
           }
          ],
          "scattermapbox": [
           {
            "marker": {
             "colorbar": {
              "outlinewidth": 0,
              "ticks": ""
             }
            },
            "type": "scattermapbox"
           }
          ],
          "scatterpolar": [
           {
            "marker": {
             "colorbar": {
              "outlinewidth": 0,
              "ticks": ""
             }
            },
            "type": "scatterpolar"
           }
          ],
          "scatterpolargl": [
           {
            "marker": {
             "colorbar": {
              "outlinewidth": 0,
              "ticks": ""
             }
            },
            "type": "scatterpolargl"
           }
          ],
          "scatterternary": [
           {
            "marker": {
             "colorbar": {
              "outlinewidth": 0,
              "ticks": ""
             }
            },
            "type": "scatterternary"
           }
          ],
          "surface": [
           {
            "colorbar": {
             "outlinewidth": 0,
             "ticks": ""
            },
            "colorscale": [
             [
              0,
              "#0d0887"
             ],
             [
              0.1111111111111111,
              "#46039f"
             ],
             [
              0.2222222222222222,
              "#7201a8"
             ],
             [
              0.3333333333333333,
              "#9c179e"
             ],
             [
              0.4444444444444444,
              "#bd3786"
             ],
             [
              0.5555555555555556,
              "#d8576b"
             ],
             [
              0.6666666666666666,
              "#ed7953"
             ],
             [
              0.7777777777777778,
              "#fb9f3a"
             ],
             [
              0.8888888888888888,
              "#fdca26"
             ],
             [
              1,
              "#f0f921"
             ]
            ],
            "type": "surface"
           }
          ],
          "table": [
           {
            "cells": {
             "fill": {
              "color": "#EBF0F8"
             },
             "line": {
              "color": "white"
             }
            },
            "header": {
             "fill": {
              "color": "#C8D4E3"
             },
             "line": {
              "color": "white"
             }
            },
            "type": "table"
           }
          ]
         },
         "layout": {
          "annotationdefaults": {
           "arrowcolor": "#2a3f5f",
           "arrowhead": 0,
           "arrowwidth": 1
          },
          "autotypenumbers": "strict",
          "coloraxis": {
           "colorbar": {
            "outlinewidth": 0,
            "ticks": ""
           }
          },
          "colorscale": {
           "diverging": [
            [
             0,
             "#8e0152"
            ],
            [
             0.1,
             "#c51b7d"
            ],
            [
             0.2,
             "#de77ae"
            ],
            [
             0.3,
             "#f1b6da"
            ],
            [
             0.4,
             "#fde0ef"
            ],
            [
             0.5,
             "#f7f7f7"
            ],
            [
             0.6,
             "#e6f5d0"
            ],
            [
             0.7,
             "#b8e186"
            ],
            [
             0.8,
             "#7fbc41"
            ],
            [
             0.9,
             "#4d9221"
            ],
            [
             1,
             "#276419"
            ]
           ],
           "sequential": [
            [
             0,
             "#0d0887"
            ],
            [
             0.1111111111111111,
             "#46039f"
            ],
            [
             0.2222222222222222,
             "#7201a8"
            ],
            [
             0.3333333333333333,
             "#9c179e"
            ],
            [
             0.4444444444444444,
             "#bd3786"
            ],
            [
             0.5555555555555556,
             "#d8576b"
            ],
            [
             0.6666666666666666,
             "#ed7953"
            ],
            [
             0.7777777777777778,
             "#fb9f3a"
            ],
            [
             0.8888888888888888,
             "#fdca26"
            ],
            [
             1,
             "#f0f921"
            ]
           ],
           "sequentialminus": [
            [
             0,
             "#0d0887"
            ],
            [
             0.1111111111111111,
             "#46039f"
            ],
            [
             0.2222222222222222,
             "#7201a8"
            ],
            [
             0.3333333333333333,
             "#9c179e"
            ],
            [
             0.4444444444444444,
             "#bd3786"
            ],
            [
             0.5555555555555556,
             "#d8576b"
            ],
            [
             0.6666666666666666,
             "#ed7953"
            ],
            [
             0.7777777777777778,
             "#fb9f3a"
            ],
            [
             0.8888888888888888,
             "#fdca26"
            ],
            [
             1,
             "#f0f921"
            ]
           ]
          },
          "colorway": [
           "#636efa",
           "#EF553B",
           "#00cc96",
           "#ab63fa",
           "#FFA15A",
           "#19d3f3",
           "#FF6692",
           "#B6E880",
           "#FF97FF",
           "#FECB52"
          ],
          "font": {
           "color": "#2a3f5f"
          },
          "geo": {
           "bgcolor": "white",
           "lakecolor": "white",
           "landcolor": "#E5ECF6",
           "showlakes": true,
           "showland": true,
           "subunitcolor": "white"
          },
          "hoverlabel": {
           "align": "left"
          },
          "hovermode": "closest",
          "mapbox": {
           "style": "light"
          },
          "paper_bgcolor": "white",
          "plot_bgcolor": "#E5ECF6",
          "polar": {
           "angularaxis": {
            "gridcolor": "white",
            "linecolor": "white",
            "ticks": ""
           },
           "bgcolor": "#E5ECF6",
           "radialaxis": {
            "gridcolor": "white",
            "linecolor": "white",
            "ticks": ""
           }
          },
          "scene": {
           "xaxis": {
            "backgroundcolor": "#E5ECF6",
            "gridcolor": "white",
            "gridwidth": 2,
            "linecolor": "white",
            "showbackground": true,
            "ticks": "",
            "zerolinecolor": "white"
           },
           "yaxis": {
            "backgroundcolor": "#E5ECF6",
            "gridcolor": "white",
            "gridwidth": 2,
            "linecolor": "white",
            "showbackground": true,
            "ticks": "",
            "zerolinecolor": "white"
           },
           "zaxis": {
            "backgroundcolor": "#E5ECF6",
            "gridcolor": "white",
            "gridwidth": 2,
            "linecolor": "white",
            "showbackground": true,
            "ticks": "",
            "zerolinecolor": "white"
           }
          },
          "shapedefaults": {
           "line": {
            "color": "#2a3f5f"
           }
          },
          "ternary": {
           "aaxis": {
            "gridcolor": "white",
            "linecolor": "white",
            "ticks": ""
           },
           "baxis": {
            "gridcolor": "white",
            "linecolor": "white",
            "ticks": ""
           },
           "bgcolor": "#E5ECF6",
           "caxis": {
            "gridcolor": "white",
            "linecolor": "white",
            "ticks": ""
           }
          },
          "title": {
           "x": 0.05
          },
          "xaxis": {
           "automargin": true,
           "gridcolor": "white",
           "linecolor": "white",
           "ticks": "",
           "title": {
            "standoff": 15
           },
           "zerolinecolor": "white",
           "zerolinewidth": 2
          },
          "yaxis": {
           "automargin": true,
           "gridcolor": "white",
           "linecolor": "white",
           "ticks": "",
           "title": {
            "standoff": 15
           },
           "zerolinecolor": "white",
           "zerolinewidth": 2
          }
         }
        },
        "xaxis": {
         "anchor": "y",
         "domain": [
          0,
          1
         ],
         "title": {
          "text": "year"
         }
        },
        "yaxis": {
         "anchor": "x",
         "domain": [
          0,
          1
         ],
         "title": {
          "text": "Lost Customers"
         }
        }
       }
      }
     },
     "metadata": {},
     "output_type": "display_data"
    }
   ],
   "source": [
    "finalFig = px.line(yearWiseDf, x='year', y=\"Lost Customers\")\n",
    "finalFig.show()\n",
    "finalFig.write_html('docs/case-study-2f.html')"
   ]
  }
 ],
 "metadata": {
  "interpreter": {
   "hash": "72f51e80378f9f7b0f2e9e0999b0405d317d96da607088ea4163234e834d0ba2"
  },
  "kernelspec": {
   "display_name": "Python 3.10.4 64-bit (windows store)",
   "language": "python",
   "name": "python3"
  },
  "language_info": {
   "codemirror_mode": {
    "name": "ipython",
    "version": 3
   },
   "file_extension": ".py",
   "mimetype": "text/x-python",
   "name": "python",
   "nbconvert_exporter": "python",
   "pygments_lexer": "ipython3",
   "version": "3.10.4"
  },
  "orig_nbformat": 4
 },
 "nbformat": 4,
 "nbformat_minor": 2
}
